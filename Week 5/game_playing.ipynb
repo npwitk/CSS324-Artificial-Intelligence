{
 "cells": [
  {
   "cell_type": "markdown",
   "id": "a67db99e",
   "metadata": {},
   "source": [
    "# Game Playing "
   ]
  },
  {
   "cell_type": "code",
   "execution_count": 1,
   "id": "48bb84e6",
   "metadata": {},
   "outputs": [],
   "source": [
    "from functools import cached_property"
   ]
  },
  {
   "cell_type": "code",
   "execution_count": 2,
   "id": "8e5b6816",
   "metadata": {},
   "outputs": [],
   "source": [
    "# Abstract base class for a game state\n",
    "class GameState:\n",
    "    def __init__(self):\n",
    "        self.player = \"max\"\n",
    "    \n",
    "    def result(self, action):\n",
    "        return None\n",
    "    \n",
    "    @property\n",
    "    def is_terminal(self):\n",
    "        return False\n",
    "    \n",
    "    @cached_property\n",
    "    def utility(self):\n",
    "        return 0\n",
    "\n",
    "    @cached_property\n",
    "    def actions(self):\n",
    "        return []\n",
    "    \n",
    "    def __repr__(self):\n",
    "        return \"GameState\"\n",
    "    \n",
    "    def __hash__(self):\n",
    "        return hash(repr(self))"
   ]
  },
  {
   "cell_type": "markdown",
   "id": "ba26eb5e",
   "metadata": {},
   "source": [
    "# Tic-Tac-Toe Game"
   ]
  },
  {
   "cell_type": "code",
   "execution_count": 3,
   "id": "afe9b2ef",
   "metadata": {},
   "outputs": [],
   "source": [
    "class TicTacToeGameState(GameState):\n",
    "    def __init__(self, board=None, player=\"max\"):\n",
    "        self.player = player\n",
    "        if board is None:\n",
    "            self.board = [[' ' for _ in range(3)] for _ in range(3)]\n",
    "        else:\n",
    "            self.board = board\n",
    "\n",
    "    def result(self, action):\n",
    "        # create a successor state after applying an action\n",
    "        new_board = [row[:] for row in self.board]\n",
    "        x, y = action\n",
    "        new_board[x][y] = 'X' if self.player == \"max\" else 'O'\n",
    "        new_player = \"min\" if self.player == \"max\" else \"max\"\n",
    "        return TicTacToeGameState(new_board, new_player)\n",
    "\n",
    "    @cached_property\n",
    "    def utility(self):\n",
    "        # check rows\n",
    "        for row in self.board:\n",
    "            if row.count('X') == 3:\n",
    "                return 1\n",
    "            if row.count('O') == 3:\n",
    "                return -1\n",
    "        # check columns\n",
    "        for col in range(3):\n",
    "            if all(self.board[row][col] == 'X' for row in range(3)):\n",
    "                return 1\n",
    "            if all(self.board[row][col] == 'O' for row in range(3)):\n",
    "                return -1\n",
    "        # check diagonals\n",
    "        if all(self.board[i][i] == 'X' for i in range(3)):\n",
    "            return 1\n",
    "        if all(self.board[i][i] == 'O' for i in range(3)):\n",
    "            return -1\n",
    "        if all(self.board[i][2-i] == 'X' for i in range(3)):\n",
    "            return 1\n",
    "        if all(self.board[i][2-i] == 'O' for i in range(3)):\n",
    "            return -1\n",
    "        # check if all cells are filled, i.e. draw\n",
    "        if all(cell != ' ' for row in self.board for cell in row):\n",
    "            return 0\n",
    "        return -999\n",
    "\n",
    "    @property\n",
    "    def is_terminal(self):\n",
    "        return self.utility in [-1, 0, 1]\n",
    "    \n",
    "    @cached_property\n",
    "    def actions(self):\n",
    "        # return all empty cell positions\n",
    "        res = []\n",
    "        for i in range(3):\n",
    "            for j in range(3):\n",
    "                if self.board[i][j] == ' ':\n",
    "                    res.append((i, j))\n",
    "        return res\n",
    "\n",
    "    def __repr__(self):\n",
    "        border = '+---+---+---+'\n",
    "        return '\\n'.join([border] + \n",
    "                         ['| ' + ' | '.join(row) + ' |' + \n",
    "                          '\\n' + border \n",
    "                          for row in self.board])\n",
    "\n",
    "    def __hash__(self):\n",
    "        return hash(''.join([cell for row in self.board for cell in row]) + \n",
    "                    self.player)"
   ]
  },
  {
   "cell_type": "markdown",
   "id": "0485154a",
   "metadata": {},
   "source": [
    "# Minimax Algorithm"
   ]
  },
  {
   "cell_type": "code",
   "execution_count": 4,
   "id": "859d26b8",
   "metadata": {},
   "outputs": [],
   "source": [
    "def minimax(state):\n",
    "    if state.is_terminal:\n",
    "        # return the utility \n",
    "        return state.utility, None\n",
    "    if state.player == \"max\":\n",
    "        v = float('-inf')\n",
    "        best_action = None\n",
    "        for action in state.actions:\n",
    "            child = state.result(action)\n",
    "            child_value, _ = minimax(child)\n",
    "            if child_value > v:\n",
    "                v = child_value\n",
    "                best_action = action\n",
    "        return v, best_action\n",
    "    else:\n",
    "        v = float('inf')\n",
    "        best_action = None\n",
    "        for action in state.actions:\n",
    "            child = state.result(action)\n",
    "            child_value, _ = minimax(child)\n",
    "            if child_value < v:\n",
    "                v = child_value\n",
    "                best_action = action\n",
    "        return v, best_action"
   ]
  },
  {
   "cell_type": "markdown",
   "id": "5942f748",
   "metadata": {},
   "source": [
    "## Test the minimax implementation"
   ]
  },
  {
   "cell_type": "code",
   "execution_count": 5,
   "id": "f4a107a6",
   "metadata": {},
   "outputs": [
    {
     "name": "stdout",
     "output_type": "stream",
     "text": [
      "+---+---+---+\n",
      "|   |   |   |\n",
      "+---+---+---+\n",
      "|   |   |   |\n",
      "+---+---+---+\n",
      "|   |   |   |\n",
      "+---+---+---+\n",
      "Best value: 0, Best action: (0, 0)\n"
     ]
    }
   ],
   "source": [
    "initial_state = TicTacToeGameState(board=None, player=\"max\")\n",
    "print(initial_state)\n",
    "v, best_action = minimax(initial_state)\n",
    "print(f\"Best value: {v}, Best action: {best_action}\")"
   ]
  },
  {
   "cell_type": "code",
   "execution_count": 6,
   "id": "a519dabb",
   "metadata": {},
   "outputs": [
    {
     "name": "stdout",
     "output_type": "stream",
     "text": [
      "+---+---+---+\n",
      "| X | O |   |\n",
      "+---+---+---+\n",
      "| O | X |   |\n",
      "+---+---+---+\n",
      "|   |   |   |\n",
      "+---+---+---+\n",
      "Best value: 1, Best action: (0, 2)\n"
     ]
    }
   ],
   "source": [
    "state = TicTacToeGameState(board=[['X','O',' '], ['O','X',' '], [' ',' ',' ']], \n",
    "                           player=\"max\")\n",
    "print(state)\n",
    "v, best_action = minimax(state)\n",
    "print(f\"Best value: {v}, Best action: {best_action}\")"
   ]
  },
  {
   "cell_type": "markdown",
   "id": "3bd8c884",
   "metadata": {},
   "source": [
    "# Interactive Tic-Tac-Toe Game"
   ]
  },
  {
   "cell_type": "code",
   "execution_count": 7,
   "id": "7ae943af",
   "metadata": {},
   "outputs": [
    {
     "name": "stdout",
     "output_type": "stream",
     "text": [
      "Initial state:\n",
      "+---+---+---+\n",
      "|   |   |   |\n",
      "+---+---+---+\n",
      "|   |   |   |\n",
      "+---+---+---+\n",
      "|   |   |   |\n",
      "+---+---+---+\n",
      "Your action = (1, 1)\n",
      "Current state after your move:\n",
      "+---+---+---+\n",
      "|   |   |   |\n",
      "+---+---+---+\n",
      "|   | O |   |\n",
      "+---+---+---+\n",
      "|   |   |   |\n",
      "+---+---+---+\n",
      "\n",
      "AI chooses action = (0, 0)\n",
      "Current state after AI move:\n",
      "+---+---+---+\n",
      "| X |   |   |\n",
      "+---+---+---+\n",
      "|   | O |   |\n",
      "+---+---+---+\n",
      "|   |   |   |\n",
      "+---+---+---+\n",
      "Your action = (0, 1)\n",
      "Current state after your move:\n",
      "+---+---+---+\n",
      "| X | O |   |\n",
      "+---+---+---+\n",
      "|   | O |   |\n",
      "+---+---+---+\n",
      "|   |   |   |\n",
      "+---+---+---+\n",
      "\n",
      "AI chooses action = (2, 1)\n",
      "Current state after AI move:\n",
      "+---+---+---+\n",
      "| X | O |   |\n",
      "+---+---+---+\n",
      "|   | O |   |\n",
      "+---+---+---+\n",
      "|   | X |   |\n",
      "+---+---+---+\n",
      "Your action = (2, 0)\n",
      "Current state after your move:\n",
      "+---+---+---+\n",
      "| X | O |   |\n",
      "+---+---+---+\n",
      "|   | O |   |\n",
      "+---+---+---+\n",
      "| O | X |   |\n",
      "+---+---+---+\n",
      "\n",
      "AI chooses action = (0, 2)\n",
      "Current state after AI move:\n",
      "+---+---+---+\n",
      "| X | O | X |\n",
      "+---+---+---+\n",
      "|   | O |   |\n",
      "+---+---+---+\n",
      "| O | X |   |\n",
      "+---+---+---+\n",
      "Your action = (2, 0)\n",
      "Invalid move. Try again.\n",
      "Your action = (1, 0)\n",
      "Current state after your move:\n",
      "+---+---+---+\n",
      "| X | O | X |\n",
      "+---+---+---+\n",
      "| O | O |   |\n",
      "+---+---+---+\n",
      "| O | X |   |\n",
      "+---+---+---+\n",
      "\n",
      "AI chooses action = (1, 2)\n",
      "Current state after AI move:\n",
      "+---+---+---+\n",
      "| X | O | X |\n",
      "+---+---+---+\n",
      "| O | O | X |\n",
      "+---+---+---+\n",
      "| O | X |   |\n",
      "+---+---+---+\n",
      "Your action = (2, 2)\n",
      "Current state after your move:\n",
      "+---+---+---+\n",
      "| X | O | X |\n",
      "+---+---+---+\n",
      "| O | O | X |\n",
      "+---+---+---+\n",
      "| O | X | O |\n",
      "+---+---+---+\n",
      "\n",
      "It's a draw!\n"
     ]
    }
   ],
   "source": [
    "initial_state = TicTacToeGameState(board=None, player=\"min\")\n",
    "current_state = initial_state\n",
    "print(f\"Initial state:\\n{current_state}\")\n",
    "while not current_state.is_terminal:\n",
    "    # human player's turn\n",
    "    if len(current_state.actions) > 1:\n",
    "        action = input(f\"Enter your move as 'row col': \")\n",
    "        row, col = [int(x) for x in action.split()]\n",
    "    else:\n",
    "        action = current_state.actions[0]\n",
    "        row, col = action\n",
    "    print(f\"Your action = ({row}, {col})\")\n",
    "    if (row, col) in current_state.actions:\n",
    "        current_state = current_state.result((row, col))\n",
    "        print(f\"Current state after your move:\\n{current_state}\")\n",
    "    else:\n",
    "        print(\"Invalid move. Try again.\")\n",
    "        continue\n",
    "    print()\n",
    "    # AI's turn\n",
    "    if not current_state.is_terminal:\n",
    "        _, best_action = minimax(current_state)\n",
    "        print(f\"AI chooses action = {best_action}\")\n",
    "        current_state = current_state.result(best_action)\n",
    "        print(f\"Current state after AI move:\\n{current_state}\")\n",
    "\n",
    "if current_state.utility == 1:\n",
    "    print(\"AI wins!\")\n",
    "elif current_state.utility == -1:\n",
    "    print(\"You win!\")\n",
    "else:\n",
    "    print(\"It's a draw!\")"
   ]
  },
  {
   "cell_type": "markdown",
   "id": "33d35f5c",
   "metadata": {},
   "source": [
    "# Alpha-Beta Pruning"
   ]
  },
  {
   "cell_type": "code",
   "execution_count": 8,
   "id": "c6187442",
   "metadata": {},
   "outputs": [],
   "source": [
    "def ab_pruning(state, alpha=float('-inf'), beta=float('inf')):\n",
    "    if state.is_terminal:\n",
    "        return state.utility, None\n",
    "    if state.player == \"max\":\n",
    "        v = float('-inf')\n",
    "        best_action = None\n",
    "        for action in state.actions:\n",
    "            child = state.result(action)\n",
    "            child_value, _ = ab_pruning(child, alpha, beta)\n",
    "            if child_value > v:\n",
    "                v = child_value\n",
    "                best_action = action\n",
    "            alpha = max(alpha, v)\n",
    "            if beta <= alpha:\n",
    "                break\n",
    "        return v, best_action\n",
    "    else:\n",
    "        v = float('inf')\n",
    "        best_action = None\n",
    "        for action in state.actions:\n",
    "            child = state.result(action)\n",
    "            child_value, _ = ab_pruning(child, alpha, beta)\n",
    "            if child_value < v:\n",
    "                v = child_value\n",
    "                best_action = action\n",
    "            beta = min(beta, v)\n",
    "            if beta <= alpha:\n",
    "                break\n",
    "        return v, best_action"
   ]
  },
  {
   "cell_type": "code",
   "execution_count": 9,
   "id": "bb2dde0f",
   "metadata": {},
   "outputs": [
    {
     "name": "stdout",
     "output_type": "stream",
     "text": [
      "+---+---+---+\n",
      "|   |   |   |\n",
      "+---+---+---+\n",
      "|   |   |   |\n",
      "+---+---+---+\n",
      "|   |   |   |\n",
      "+---+---+---+\n",
      "Best value: 0, Best action: (0, 0)\n"
     ]
    }
   ],
   "source": [
    "initial_state = TicTacToeGameState(board=None, player=\"max\")\n",
    "print(initial_state)\n",
    "v, best_action = ab_pruning(initial_state)\n",
    "print(f\"Best value: {v}, Best action: {best_action}\")"
   ]
  },
  {
   "cell_type": "code",
   "execution_count": 10,
   "id": "36d1c00d",
   "metadata": {},
   "outputs": [
    {
     "name": "stdout",
     "output_type": "stream",
     "text": [
      "+---+---+---+\n",
      "| X | O |   |\n",
      "+---+---+---+\n",
      "| O | X |   |\n",
      "+---+---+---+\n",
      "|   |   |   |\n",
      "+---+---+---+\n",
      "Best value: 1, Best action: (0, 2)\n"
     ]
    }
   ],
   "source": [
    "state = TicTacToeGameState(board=[['X','O',' '], ['O','X',' '], [' ',' ',' ']], \n",
    "                           player=\"max\")\n",
    "print(state)\n",
    "v, best_action = ab_pruning(state)\n",
    "print(f\"Best value: {v}, Best action: {best_action}\")"
   ]
  }
 ],
 "metadata": {
  "kernelspec": {
   "display_name": "base",
   "language": "python",
   "name": "python3"
  },
  "language_info": {
   "codemirror_mode": {
    "name": "ipython",
    "version": 3
   },
   "file_extension": ".py",
   "mimetype": "text/x-python",
   "name": "python",
   "nbconvert_exporter": "python",
   "pygments_lexer": "ipython3",
   "version": "3.10.14"
  }
 },
 "nbformat": 4,
 "nbformat_minor": 5
}
