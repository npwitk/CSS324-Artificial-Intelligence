{
 "cells": [
  {
   "cell_type": "markdown",
   "id": "b0d29df6",
   "metadata": {},
   "source": [
    "# Uninformed Search"
   ]
  },
  {
   "cell_type": "code",
   "execution_count": 12,
   "id": "78959715",
   "metadata": {},
   "outputs": [],
   "source": [
    "from state import State\n",
    "from heapq import heappush, heappop, heapify\n",
    "from typing import List, Tuple, Dict, Any"
   ]
  },
  {
   "cell_type": "markdown",
   "id": "e10bca46",
   "metadata": {},
   "source": [
    "## Node"
   ]
  },
  {
   "cell_type": "code",
   "execution_count": 13,
   "id": "dc04b84e",
   "metadata": {},
   "outputs": [],
   "source": [
    "class Node:\n",
    "    def __init__(self, state: \"State\", parent: \"Node\", path_cost: int, depth: int) -> None:\n",
    "        self.state = state\n",
    "        self.parent = parent\n",
    "        self.path_cost = path_cost\n",
    "        self.depth = depth\n",
    "\n",
    "    def __lt__(self, other: \"Node\") -> bool:\n",
    "        return self.path_cost < other.path_cost"
   ]
  },
  {
   "cell_type": "markdown",
   "id": "3c39cb2f",
   "metadata": {},
   "source": [
    "## Uniform-Cost Tree Search"
   ]
  },
  {
   "cell_type": "code",
   "execution_count": 14,
   "id": "3638595f",
   "metadata": {},
   "outputs": [],
   "source": [
    "def uniform_cost_tree_search(initial_state: State) -> Tuple[Node, int]:\n",
    "    # create the initial node from the initial state\n",
    "    initial_node = Node(initial_state, None, 0, 0)  \n",
    "    # initialize the frontier with the initial node\n",
    "    frontier = [(0, initial_node)]                 \n",
    "    # heapify the frontier for efficient access \n",
    "    # each member of the frontier is a tuple (path_cost, node)\n",
    "    heapify(frontier)                              \n",
    "                                                    \n",
    "    # initialize the number of nodes visited\n",
    "    n_visits = 0                                    \n",
    "\n",
    "    # while there are nodes in the frontier\n",
    "    while frontier:                                 \n",
    "        n_visits += 1                               \n",
    "        # pop the node with the lowest path cost\n",
    "        p, node = heappop(frontier)                 \n",
    "        if node.state.is_goal():                    \n",
    "            # return the node and the number of nodes visited\n",
    "            return node, n_visits                   \n",
    "        else:\n",
    "            for child_state, step_cost in node.state.successors():\n",
    "                # create a child node from the current node\n",
    "                child_node = Node(child_state, node, node.path_cost + step_cost, node.depth + 1)    \n",
    "                # push the child node into the frontier\n",
    "                heappush(frontier, (child_node.path_cost, child_node))                              \n",
    "    # if no goal node is found, return None and number of nodes visited\n",
    "    return None, n_visits                               "
   ]
  },
  {
   "cell_type": "markdown",
   "id": "7714f7f2",
   "metadata": {},
   "source": [
    "## Testing Uniform-Cost Tree Search"
   ]
  },
  {
   "cell_type": "code",
   "execution_count": 15,
   "id": "dd267706",
   "metadata": {},
   "outputs": [
    {
     "name": "stdout",
     "output_type": "stream",
     "text": [
      "Path: [(0, 0), (0, 5), (3, 2), (0, 2), (2, 0), (2, 5), (3, 4)]\n",
      "Path cost: 19\n",
      "Number of nodes visited: 283\n"
     ]
    }
   ],
   "source": [
    "from water_jug import WaterJugState\n",
    "\n",
    "# create the initial state with both jugs empty\n",
    "initial_state = WaterJugState(0, 0)                 \n",
    "# perform uniform cost tree search\n",
    "goal_node, n_visits = uniform_cost_tree_search(initial_state)  \n",
    "# if a goal node is found\n",
    "if goal_node:                                       \n",
    "    # initialize the path\n",
    "    path = []                                       \n",
    "    # start from the goal node\n",
    "    node = goal_node                                \n",
    "    # backtrack to find the path from the initial state to the goal node\n",
    "    while node:                                     \n",
    "        # append the state of the node to the path\n",
    "        path.append(node.state)                     \n",
    "        # move to the parent node\n",
    "        node = node.parent                          \n",
    "    # reverse the path to get it from initial state to goal node\n",
    "    path.reverse()                                  \n",
    "    print(f\"Path: {path}\")                          \n",
    "    print(f\"Path cost: {goal_node.path_cost}\")      \n",
    "    print(f\"Number of nodes visited: {n_visits}\")   "
   ]
  },
  {
   "cell_type": "code",
   "execution_count": 16,
   "id": "83df7d86",
   "metadata": {},
   "outputs": [
    {
     "name": "stdout",
     "output_type": "stream",
     "text": [
      "Path: [Arad, Sibiu, Rimnicu Vilcea, Pitesti, Bucharest]\n",
      "Path cost: 418\n",
      "Number of nodes visited: 52\n"
     ]
    }
   ],
   "source": [
    "from romania_route import RomaniaRouteState\n",
    "\n",
    "# create the initial state with Arad as the starting city\n",
    "initial_state = RomaniaRouteState(\"Arad\")           \n",
    "# perform uniform cost tree search\n",
    "goal_node, n_visits = uniform_cost_tree_search(initial_state)  \n",
    "# if a goal node is found\n",
    "if goal_node:                                       \n",
    "    # initialize the path\n",
    "    path = []                                       \n",
    "    # start from the goal node\n",
    "    node = goal_node                                \n",
    "    # backtrack to find the path from the initial state to the goal node\n",
    "    while node:                                     \n",
    "        # append the state of the node to the path\n",
    "        path.append(node.state)                     \n",
    "        # move to the parent node\n",
    "        node = node.parent                          \n",
    "    # reverse the path to get it from initial state to goal node\n",
    "    path.reverse()                                  \n",
    "    print(f\"Path: {path}\")                          \n",
    "    print(f\"Path cost: {goal_node.path_cost}\")      \n",
    "    print(f\"Number of nodes visited: {n_visits}\")   "
   ]
  },
  {
   "cell_type": "markdown",
   "id": "6f440ce4",
   "metadata": {},
   "source": [
    "## Uniform-Cost Graph Search"
   ]
  },
  {
   "cell_type": "code",
   "execution_count": 17,
   "id": "90cee60a",
   "metadata": {},
   "outputs": [],
   "source": [
    "# Find a specific state in the frontier\n",
    "# This function returns the index and node if the state is found, \n",
    "# otherwise returns -1 and None\n",
    "def find_state(state: State, frontier: List[Tuple[int, Node]]) -> Tuple[int, Node]:\n",
    "    for i, (_, node) in enumerate(frontier):\n",
    "        if node.state == state:\n",
    "            return i, node\n",
    "    return -1, None"
   ]
  },
  {
   "cell_type": "code",
   "execution_count": null,
   "id": "b6ea9bcb",
   "metadata": {},
   "outputs": [],
   "source": [
    "def uniform_cost_graph_search(initial_state: State) -> Node:\n",
    "    # create the initial node from the initial state\n",
    "    initial_node = Node(initial_state, None, 0, 0)  \n",
    "    # initialize the frontier with the initial node\n",
    "    frontier = [(0, initial_node)]                  \n",
    "    # heapify the frontier for efficient access\n",
    "    # each member of the frontier is a tuple (path_cost, node)\n",
    "    heapify(frontier)                               \n",
    "                                                    \n",
    "    # initialize the explored set to keep track of visited nodes\n",
    "    explored = set()                                \n",
    "    # initialize number of nodes visited\n",
    "    n_visits = 0                                    \n",
    "\n",
    "    # while there are nodes in the frontier\n",
    "    while frontier:                                 \n",
    "        n_visits += 1                               \n",
    "        # pop the node with the lowest path cost\n",
    "        p, node = heappop(frontier)                 \n",
    "        # add the state in the node to the explored set\n",
    "        explored.add(node.state)                    \n",
    "        # if the node is a goal node\n",
    "        if node.state.is_goal():                    \n",
    "            # return the node and the number of nodes visited\n",
    "            return node, n_visits                   \n",
    "        else:\n",
    "            for child_state, step_cost in node.state.successors():\n",
    "                # if the child state is not in the explored set\n",
    "                if child_state not in explored:         \n",
    "                    # check if the child state is already in the frontier\n",
    "                    idx, existing_node = find_state(child_state, frontier)          \n",
    "                    # create a child node from the current node\n",
    "                    child_node = Node(child_state, node, node.path_cost + step_cost, \n",
    "                                      node.depth + 1)  \n",
    "                    # if the child state is not in the frontier\n",
    "                    if existing_node is None:                                       \n",
    "                        # push the child node into the frontier\n",
    "                        heappush(frontier, (child_node.path_cost, child_node))      \n",
    "                    # if the child state is in the frontier with a higher path cost\n",
    "                    elif child_node.path_cost < existing_node.path_cost:            \n",
    "                        # update the frontier with the new child node\n",
    "                        frontier[idx] = (child_node.path_cost, child_node)          \n",
    "                        # heapify the frontier to maintain the heap property  \n",
    "                        heapify(frontier)                                           \n",
    "    # if no goal node is found, return None and number of nodes visited\n",
    "    return None, n_visits                               "
   ]
  },
  {
   "cell_type": "markdown",
   "id": "3d0e51a2",
   "metadata": {},
   "source": [
    "## Testing Uniform-Cost Graph Search"
   ]
  },
  {
   "cell_type": "code",
   "execution_count": 19,
   "id": "23b60386",
   "metadata": {},
   "outputs": [
    {
     "name": "stdout",
     "output_type": "stream",
     "text": [
      "Path: [(0, 0), (0, 5), (3, 2), (0, 2), (2, 0), (2, 5), (3, 4)]\n",
      "Path cost: 19\n",
      "Number of nodes visited: 14\n"
     ]
    }
   ],
   "source": [
    "from water_jug import WaterJugState\n",
    "\n",
    "initial_state = WaterJugState(0, 0)                 \n",
    "goal_node, n_visits = uniform_cost_graph_search(initial_state)\n",
    "if goal_node:\n",
    "    path = []\n",
    "    node = goal_node\n",
    "    while node:\n",
    "        path.append(node.state)\n",
    "        node = node.parent\n",
    "    path.reverse()\n",
    "    print(f\"Path: {path}\")\n",
    "    print(f\"Path cost: {goal_node.path_cost}\")\n",
    "    print(f\"Number of nodes visited: {n_visits}\")"
   ]
  },
  {
   "cell_type": "code",
   "execution_count": 20,
   "id": "26ea228c",
   "metadata": {},
   "outputs": [
    {
     "name": "stdout",
     "output_type": "stream",
     "text": [
      "Path: [Arad, Sibiu, Rimnicu Vilcea, Pitesti, Bucharest]\n",
      "Path cost: 418\n",
      "Number of nodes visited: 13\n"
     ]
    }
   ],
   "source": [
    "from romania_route import RomaniaRouteState\n",
    "\n",
    "initial_state = RomaniaRouteState(\"Arad\")\n",
    "goal_node, n_visits = uniform_cost_graph_search(initial_state)\n",
    "if goal_node:\n",
    "    path = []\n",
    "    node = goal_node\n",
    "    while node:\n",
    "        path.append(node.state)\n",
    "        node = node.parent\n",
    "    path.reverse()\n",
    "    print(f\"Path: {path}\")\n",
    "    print(f\"Path cost: {goal_node.path_cost}\")\n",
    "    print(f\"Number of nodes visited: {n_visits}\")"
   ]
  },
  {
   "cell_type": "markdown",
   "id": "7a590695",
   "metadata": {},
   "source": [
    "## Example:\n",
    "\n",
    "Implement Breadth-First Graph Search"
   ]
  },
  {
   "cell_type": "code",
   "execution_count": null,
   "id": "029ea792",
   "metadata": {},
   "outputs": [],
   "source": [
    "from collections import deque\n",
    "\n",
    "def breadth_first_graph_search(initial_state: State) -> Node:\n",
    "    # frontier = FIFO Queue = List, collections.deque\n",
    "    initial_node = Node(initial_state, None, 0, 0)      # create the initial node\n",
    "    frontier = deque([initial_node])                    # initial the frontier as a deque\n",
    "    n_visits = 0\n",
    "    explored = set()\n",
    "\n",
    "    while frontier:\n",
    "        n_visits += 1\n",
    "        node = frontier.popleft()\n",
    "        explored.add(node.state)\n",
    "\n",
    "        if node.state.is_goal():\n",
    "            return node, n_visits\n",
    "        else:\n",
    "            # generate successors and append them to frontier\n",
    "            for child_state, step_cost in node.state.successors():\n",
    "                if child_state not in explored:\n",
    "                    idx, existing_node = find_state(child_state, frontier)\n",
    "                    if not existing_node:\n",
    "                        child_node = Node(child_state, node,\n",
    "                                          node.path_cost + step_cost,\n",
    "                                          node.depth + 1)\n",
    "                        frontier.append(child_node)\n",
    "    return None, n_visits\n"
   ]
  }
 ],
 "metadata": {
  "kernelspec": {
   "display_name": "base",
   "language": "python",
   "name": "python3"
  },
  "language_info": {
   "codemirror_mode": {
    "name": "ipython",
    "version": 3
   },
   "file_extension": ".py",
   "mimetype": "text/x-python",
   "name": "python",
   "nbconvert_exporter": "python",
   "pygments_lexer": "ipython3",
   "version": "3.10.14"
  }
 },
 "nbformat": 4,
 "nbformat_minor": 5
}
